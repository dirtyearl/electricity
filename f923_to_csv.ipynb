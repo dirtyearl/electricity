{
 "cells": [
  {
   "cell_type": "code",
   "execution_count": 2,
   "id": "96d24ca4-493f-49c4-827f-6050778ad808",
   "metadata": {},
   "outputs": [],
   "source": [
    "import os\n",
    "import pandas as pd"
   ]
  },
  {
   "cell_type": "code",
   "execution_count": 8,
   "id": "996753d8-95d8-49e2-832e-6a68b0a2709a",
   "metadata": {},
   "outputs": [],
   "source": [
    "pd.read_excel(os.path.join('f923_2008.zip', 'eia923December2008.xls'), sheet_name=0, header=7).to_csv('f923_2008.csv', index=False)"
   ]
  },
  {
   "cell_type": "code",
   "execution_count": null,
   "id": "5eac9422-893d-4b4c-a59d-a35d3cd7669c",
   "metadata": {},
   "outputs": [],
   "source": []
  }
 ],
 "metadata": {
  "kernelspec": {
   "display_name": "Python 3 (ipykernel)",
   "language": "python",
   "name": "python3"
  },
  "language_info": {
   "codemirror_mode": {
    "name": "ipython",
    "version": 3
   },
   "file_extension": ".py",
   "mimetype": "text/x-python",
   "name": "python",
   "nbconvert_exporter": "python",
   "pygments_lexer": "ipython3",
   "version": "3.8.12"
  }
 },
 "nbformat": 4,
 "nbformat_minor": 5
}
